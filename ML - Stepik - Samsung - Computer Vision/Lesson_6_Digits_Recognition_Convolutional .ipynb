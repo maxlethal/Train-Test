{
  "cells": [
    {
      "cell_type": "markdown",
      "metadata": {
        "id": "cdjn6pICZMoM"
      },
      "source": [
        "![alt text](https://engmrk.com/wp-content/uploads/2018/09/LeNet_Original_Image.jpg)"
      ]
    },
    {
      "cell_type": "markdown",
      "metadata": {
        "id": "14icu4JgZXqM"
      },
      "source": [
        "![alt text](https://engmrk.com/wp-content/uploads/2018/09/LeNEt_Summary_Table.jpg)"
      ]
    },
    {
      "cell_type": "code",
      "execution_count": 2,
      "metadata": {
        "id": "85_HkTjcNZeg"
      },
      "outputs": [],
      "source": [
        "import torch\n",
        "import random\n",
        "import numpy as np\n",
        "\n",
        "random.seed(0)\n",
        "np.random.seed(0)\n",
        "torch.manual_seed(0)\n",
        "torch.cuda.manual_seed(0)\n",
        "torch.backends.cudnn.deterministic = True"
      ]
    },
    {
      "cell_type": "code",
      "execution_count": 3,
      "metadata": {
        "id": "kjPVw9UfNZel"
      },
      "outputs": [],
      "source": [
        "import torchvision.datasets"
      ]
    },
    {
      "cell_type": "code",
      "execution_count": 4,
      "metadata": {
        "id": "buWKcUqGNZeo",
        "colab": {
          "base_uri": "https://localhost:8080/"
        },
        "outputId": "ae74fcdd-70bd-4e46-8d0c-3a415ad41d02"
      },
      "outputs": [
        {
          "output_type": "stream",
          "name": "stdout",
          "text": [
            "Downloading http://yann.lecun.com/exdb/mnist/train-images-idx3-ubyte.gz\n",
            "Downloading http://yann.lecun.com/exdb/mnist/train-images-idx3-ubyte.gz to ./MNIST/raw/train-images-idx3-ubyte.gz\n"
          ]
        },
        {
          "output_type": "stream",
          "name": "stderr",
          "text": [
            "100%|██████████| 9912422/9912422 [00:00<00:00, 419088868.95it/s]"
          ]
        },
        {
          "output_type": "stream",
          "name": "stdout",
          "text": [
            "Extracting ./MNIST/raw/train-images-idx3-ubyte.gz to ./MNIST/raw\n"
          ]
        },
        {
          "output_type": "stream",
          "name": "stderr",
          "text": [
            "\n"
          ]
        },
        {
          "output_type": "stream",
          "name": "stdout",
          "text": [
            "\n",
            "Downloading http://yann.lecun.com/exdb/mnist/train-labels-idx1-ubyte.gz\n",
            "Downloading http://yann.lecun.com/exdb/mnist/train-labels-idx1-ubyte.gz to ./MNIST/raw/train-labels-idx1-ubyte.gz\n"
          ]
        },
        {
          "output_type": "stream",
          "name": "stderr",
          "text": [
            "100%|██████████| 28881/28881 [00:00<00:00, 46879138.48it/s]\n"
          ]
        },
        {
          "output_type": "stream",
          "name": "stdout",
          "text": [
            "Extracting ./MNIST/raw/train-labels-idx1-ubyte.gz to ./MNIST/raw\n",
            "\n",
            "Downloading http://yann.lecun.com/exdb/mnist/t10k-images-idx3-ubyte.gz\n",
            "Downloading http://yann.lecun.com/exdb/mnist/t10k-images-idx3-ubyte.gz to ./MNIST/raw/t10k-images-idx3-ubyte.gz\n"
          ]
        },
        {
          "output_type": "stream",
          "name": "stderr",
          "text": [
            "100%|██████████| 1648877/1648877 [00:00<00:00, 136072629.54it/s]\n"
          ]
        },
        {
          "output_type": "stream",
          "name": "stdout",
          "text": [
            "Extracting ./MNIST/raw/t10k-images-idx3-ubyte.gz to ./MNIST/raw\n",
            "\n",
            "Downloading http://yann.lecun.com/exdb/mnist/t10k-labels-idx1-ubyte.gz\n",
            "Downloading http://yann.lecun.com/exdb/mnist/t10k-labels-idx1-ubyte.gz to ./MNIST/raw/t10k-labels-idx1-ubyte.gz\n"
          ]
        },
        {
          "output_type": "stream",
          "name": "stderr",
          "text": [
            "100%|██████████| 4542/4542 [00:00<00:00, 16963961.50it/s]"
          ]
        },
        {
          "output_type": "stream",
          "name": "stdout",
          "text": [
            "Extracting ./MNIST/raw/t10k-labels-idx1-ubyte.gz to ./MNIST/raw\n",
            "\n"
          ]
        },
        {
          "output_type": "stream",
          "name": "stderr",
          "text": [
            "\n"
          ]
        }
      ],
      "source": [
        "MNIST_train = torchvision.datasets.MNIST('./', download=True, train=True)\n",
        "MNIST_test = torchvision.datasets.MNIST('./', download=True, train=False)\n"
      ]
    },
    {
      "cell_type": "code",
      "execution_count": 5,
      "metadata": {
        "id": "nyrpGOtPNZeq",
        "colab": {
          "base_uri": "https://localhost:8080/"
        },
        "outputId": "37988091-a958-4383-f86b-6f3fe2c56b0c"
      },
      "outputs": [
        {
          "output_type": "stream",
          "name": "stderr",
          "text": [
            "/usr/local/lib/python3.9/dist-packages/torchvision/datasets/mnist.py:75: UserWarning: train_data has been renamed data\n",
            "  warnings.warn(\"train_data has been renamed data\")\n",
            "/usr/local/lib/python3.9/dist-packages/torchvision/datasets/mnist.py:65: UserWarning: train_labels has been renamed targets\n",
            "  warnings.warn(\"train_labels has been renamed targets\")\n",
            "/usr/local/lib/python3.9/dist-packages/torchvision/datasets/mnist.py:80: UserWarning: test_data has been renamed data\n",
            "  warnings.warn(\"test_data has been renamed data\")\n",
            "/usr/local/lib/python3.9/dist-packages/torchvision/datasets/mnist.py:70: UserWarning: test_labels has been renamed targets\n",
            "  warnings.warn(\"test_labels has been renamed targets\")\n"
          ]
        }
      ],
      "source": [
        "X_train = MNIST_train.train_data\n",
        "y_train = MNIST_train.train_labels\n",
        "X_test = MNIST_test.test_data\n",
        "y_test = MNIST_test.test_labels"
      ]
    },
    {
      "cell_type": "code",
      "execution_count": 5,
      "metadata": {
        "id": "f_TmOTWdNZet",
        "colab": {
          "base_uri": "https://localhost:8080/"
        },
        "outputId": "df8185a7-709b-4dd8-f734-a8a24c1347ff"
      },
      "outputs": [
        {
          "output_type": "execute_result",
          "data": {
            "text/plain": [
              "(60000, 10000)"
            ]
          },
          "metadata": {},
          "execution_count": 5
        }
      ],
      "source": [
        "len(y_train), len(y_test)"
      ]
    },
    {
      "cell_type": "code",
      "execution_count": 6,
      "metadata": {
        "id": "Zd-E4vIpNZe1",
        "colab": {
          "base_uri": "https://localhost:8080/",
          "height": 448
        },
        "outputId": "c32ea0bf-3693-4668-f37a-6ef694ecbcff"
      },
      "outputs": [
        {
          "output_type": "display_data",
          "data": {
            "text/plain": [
              "<Figure size 640x480 with 1 Axes>"
            ],
            "image/png": "[encoded data removed]"
          },
          "metadata": {}
        },
        {
          "output_type": "stream",
          "name": "stdout",
          "text": [
            "tensor(5)\n"
          ]
        }
      ],
      "source": [
        "import matplotlib.pyplot as plt\n",
        "plt.imshow(X_train[0, :, :])\n",
        "plt.show()\n",
        "print(y_train[0])"
      ]
    },
    {
      "cell_type": "code",
      "source": [
        "X_train.shape"
      ],
      "metadata": {
        "colab": {
          "base_uri": "https://localhost:8080/"
        },
        "id": "7L8x-8T6dxnP",
        "outputId": "8b57fc20-be0e-457e-9205-5ac0203f525b"
      },
      "execution_count": 6,
      "outputs": [
        {
          "output_type": "execute_result",
          "data": {
            "text/plain": [
              "torch.Size([60000, 28, 28])"
            ]
          },
          "metadata": {},
          "execution_count": 6
        }
      ]
    },
    {
      "cell_type": "code",
      "execution_count": 7,
      "metadata": {
        "id": "Tf9LiDGuNZe6"
      },
      "outputs": [],
      "source": [
        "X_train = X_train.unsqueeze(1).float()\n",
        "X_test = X_test.unsqueeze(1).float()"
      ]
    },
    {
      "cell_type": "code",
      "execution_count": 13,
      "metadata": {
        "id": "kxKAhEYHNZe-",
        "colab": {
          "base_uri": "https://localhost:8080/"
        },
        "outputId": "b9615665-f22c-4afc-a215-9f195986f2b1"
      },
      "outputs": [
        {
          "output_type": "execute_result",
          "data": {
            "text/plain": [
              "torch.Size([60000, 1, 28, 28])"
            ]
          },
          "metadata": {},
          "execution_count": 13
        }
      ],
      "source": [
        "X_train.shape"
      ]
    },
    {
      "cell_type": "code",
      "execution_count": 19,
      "metadata": {
        "id": "xhsw9soDODel"
      },
      "outputs": [],
      "source": [
        "class LeNet5(torch.nn.Module):\n",
        "    def __init__(self):\n",
        "        super(LeNet5, self).__init__()\n",
        "        \n",
        "        self.conv1 = torch.nn.Conv2d(\n",
        "            in_channels=1, out_channels=6, kernel_size=5, padding=2)\n",
        "        self.act1  = torch.nn.Tanh()\n",
        "        self.pool1 = torch.nn.AvgPool2d(kernel_size=2, stride=2)\n",
        "       \n",
        "        self.conv2 = torch.nn.Conv2d(\n",
        "            in_channels=6, out_channels=16, kernel_size=5, padding=0)\n",
        "        self.act2  = torch.nn.Tanh()\n",
        "        self.pool2 = torch.nn.AvgPool2d(kernel_size=2, stride=2)\n",
        "        \n",
        "        self.fc1   = torch.nn.Linear(5 * 5 * 16, 120)\n",
        "        self.act3  = torch.nn.Tanh()\n",
        "        \n",
        "        self.fc2   = torch.nn.Linear(120, 84)\n",
        "        self.act4  = torch.nn.Tanh()\n",
        "        \n",
        "        self.fc3   = torch.nn.Linear(84, 10)\n",
        "    \n",
        "    def forward(self, x):\n",
        "        \n",
        "        x = self.conv1(x)\n",
        "        x = self.act1(x)\n",
        "        x = self.pool1(x)\n",
        "        \n",
        "        x = self.conv2(x)\n",
        "        x = self.act2(x)\n",
        "        x = self.pool2(x)\n",
        "        \n",
        "        x = x.view(x.size(0), x.size(1) * x.size(2) * x.size(3))\n",
        "\n",
        "        x = self.fc1(x)\n",
        "        x = self.act3(x)\n",
        "        x = self.fc2(x)\n",
        "        x = self.act4(x)\n",
        "        x = self.fc3(x)\n",
        "        \n",
        "        return x\n",
        "    \n",
        "lenet5 = LeNet5()"
      ]
    },
    {
      "cell_type": "code",
      "execution_count": 20,
      "metadata": {
        "id": "qT-PsO7VNZfB"
      },
      "outputs": [],
      "source": [
        "device = torch.device('cuda:0' if torch.cuda.is_available() else 'cpu')\n",
        "lenet5 = lenet5.to(device)"
      ]
    },
    {
      "cell_type": "code",
      "execution_count": 21,
      "metadata": {
        "id": "rkK0kv1VNZfL"
      },
      "outputs": [],
      "source": [
        "loss = torch.nn.CrossEntropyLoss()\n",
        "optimizer = torch.optim.Adam(lenet5.parameters(), lr=1.0e-3)"
      ]
    },
    {
      "cell_type": "code",
      "execution_count": 22,
      "metadata": {
        "id": "XfA9gqSdNZfQ",
        "colab": {
          "base_uri": "https://localhost:8080/"
        },
        "outputId": "eb9fa942-0e38-4fd2-9fec-5e6ebbb653d1"
      },
      "outputs": [
        {
          "output_type": "stream",
          "name": "stdout",
          "text": [
            "tensor(0.9756)\n",
            "tensor(0.9807)\n",
            "tensor(0.9864)\n",
            "tensor(0.9841)\n",
            "tensor(0.9896)\n",
            "tensor(0.9878)\n",
            "tensor(0.9882)\n",
            "tensor(0.9872)\n",
            "tensor(0.9859)\n",
            "tensor(0.9887)\n",
            "tensor(0.9888)\n",
            "tensor(0.9892)\n",
            "tensor(0.9869)\n",
            "tensor(0.9894)\n",
            "tensor(0.9880)\n",
            "tensor(0.9881)\n",
            "tensor(0.9886)\n",
            "tensor(0.9885)\n",
            "tensor(0.9882)\n",
            "tensor(0.9888)\n",
            "tensor(0.9879)\n",
            "tensor(0.9871)\n",
            "tensor(0.9874)\n",
            "tensor(0.9884)\n",
            "tensor(0.9880)\n",
            "tensor(0.9872)\n",
            "tensor(0.9894)\n",
            "tensor(0.9898)\n",
            "tensor(0.9867)\n",
            "tensor(0.9863)\n",
            "tensor(0.9887)\n",
            "tensor(0.9892)\n",
            "tensor(0.9884)\n",
            "tensor(0.9896)\n",
            "tensor(0.9883)\n",
            "tensor(0.9903)\n",
            "tensor(0.9869)\n",
            "tensor(0.9867)\n",
            "tensor(0.9887)\n",
            "tensor(0.9896)\n",
            "tensor(0.9883)\n",
            "tensor(0.9879)\n",
            "tensor(0.9903)\n",
            "tensor(0.9864)\n",
            "tensor(0.9886)\n",
            "tensor(0.9893)\n",
            "tensor(0.9911)\n",
            "tensor(0.9913)\n",
            "tensor(0.9873)\n",
            "tensor(0.9888)\n",
            "tensor(0.9885)\n",
            "tensor(0.9902)\n",
            "tensor(0.9908)\n",
            "tensor(0.9848)\n",
            "tensor(0.9871)\n",
            "tensor(0.9843)\n",
            "tensor(0.9867)\n",
            "tensor(0.9886)\n",
            "tensor(0.9890)\n",
            "tensor(0.9888)\n",
            "tensor(0.9888)\n",
            "tensor(0.9886)\n",
            "tensor(0.9891)\n",
            "tensor(0.9897)\n",
            "tensor(0.9876)\n",
            "tensor(0.9863)\n",
            "tensor(0.9878)\n",
            "tensor(0.9888)\n",
            "tensor(0.9856)\n",
            "tensor(0.9853)\n",
            "tensor(0.9881)\n",
            "tensor(0.9882)\n",
            "tensor(0.9885)\n",
            "tensor(0.9883)\n",
            "tensor(0.9872)\n",
            "tensor(0.9879)\n",
            "tensor(0.9869)\n",
            "tensor(0.9892)\n",
            "tensor(0.9889)\n",
            "tensor(0.9866)\n",
            "tensor(0.9872)\n",
            "tensor(0.9877)\n",
            "tensor(0.9875)\n",
            "tensor(0.9867)\n",
            "tensor(0.9876)\n",
            "tensor(0.9898)\n",
            "tensor(0.9890)\n",
            "tensor(0.9888)\n",
            "tensor(0.9878)\n",
            "tensor(0.9879)\n",
            "tensor(0.9872)\n",
            "tensor(0.9885)\n",
            "tensor(0.9876)\n",
            "tensor(0.9882)\n",
            "tensor(0.9884)\n",
            "tensor(0.9901)\n",
            "tensor(0.9894)\n",
            "tensor(0.9879)\n",
            "tensor(0.9879)\n",
            "tensor(0.9867)\n"
          ]
        }
      ],
      "source": [
        "batch_size = 100\n",
        "\n",
        "test_accuracy_history = []\n",
        "test_loss_history = []\n",
        "\n",
        "X_test = X_test.to(device)\n",
        "y_test = y_test.to(device)\n",
        "\n",
        "for epoch in range(100):\n",
        "    order = np.random.permutation(len(X_train))\n",
        "    for start_index in range(0, len(X_train), batch_size):\n",
        "        optimizer.zero_grad()\n",
        "        \n",
        "        batch_indexes = order[start_index:start_index+batch_size]\n",
        "        \n",
        "        X_batch = X_train[batch_indexes].to(device)\n",
        "        y_batch = y_train[batch_indexes].to(device)\n",
        "        \n",
        "        preds = lenet5.forward(X_batch) \n",
        "        \n",
        "        loss_value = loss(preds, y_batch)\n",
        "        loss_value.backward()\n",
        "        \n",
        "        optimizer.step()\n",
        "        \n",
        "    test_preds = lenet5.forward(X_test)\n",
        "    test_loss_history.append(loss(test_preds, y_test).data.cpu())\n",
        "    \n",
        "    accuracy = (test_preds.argmax(dim=1) == y_test).float().mean().data.cpu()\n",
        "    test_accuracy_history.append(accuracy)\n",
        "    \n",
        "    print(accuracy)"
      ]
    },
    {
      "cell_type": "code",
      "execution_count": 24,
      "metadata": {
        "id": "H4hjogO8NZfS",
        "colab": {
          "base_uri": "https://localhost:8080/"
        },
        "outputId": "c959c55d-c5da-40b3-ab4b-9c6648569a21"
      },
      "outputs": [
        {
          "output_type": "execute_result",
          "data": {
            "text/plain": [
              "tensor([7, 2, 1,  ..., 4, 5, 6], device='cuda:0')"
            ]
          },
          "metadata": {},
          "execution_count": 24
        }
      ],
      "source": [
        "lenet5.forward(X_test).argmax(dim=1)"
      ]
    },
    {
      "cell_type": "code",
      "execution_count": 25,
      "metadata": {
        "id": "4FDtagQvNZfU",
        "colab": {
          "base_uri": "https://localhost:8080/",
          "height": 430
        },
        "outputId": "f2f7e481-bbbb-40f0-96bb-9566f05c16f6"
      },
      "outputs": [
        {
          "output_type": "display_data",
          "data": {
            "text/plain": [
              "<Figure size 640x480 with 1 Axes>"
            ],
            "image/png": "[encoded data removed]"
          },
          "metadata": {}
        }
      ],
      "source": [
        "# plt.plot(test_accuracy_history);\n",
        "plt.plot(test_loss_history);"
      ]
    },
    {
      "cell_type": "code",
      "execution_count": 15,
      "metadata": {
        "id": "vta37dlSNZfZ"
      },
      "outputs": [],
      "source": [
        "class LeNet_adv(torch.nn.Module):\n",
        "    def __init__(self):\n",
        "        super(LeNet_adv, self).__init__()\n",
        "        \n",
        "        self.conv1 = torch.nn.Conv2d(\n",
        "            in_channels=1, out_channels=6, kernel_size=3, padding=1)\n",
        "        self.act1  = torch.nn.ReLU()\n",
        "        self.pool1 = torch.nn.MaxPool2d(kernel_size=2, stride=2)\n",
        "       \n",
        "        self.conv2 = torch.nn.Conv2d(\n",
        "            in_channels=6, out_channels=16, kernel_size=5, padding=0) # скорее всего нужен kernel_size=5 \n",
        "        self.act2  = torch.nn.ReLU()\n",
        "        self.pool2 = torch.nn.AvgPool2d(kernel_size=2, stride=2)\n",
        "        \n",
        "        self.fc1   = torch.nn.Linear(5 * 5 * 16, 120)\n",
        "        self.act3  = torch.nn.ReLU()\n",
        "        \n",
        "        self.fc2   = torch.nn.Linear(120, 84)\n",
        "        self.act4  = torch.nn.ReLU()\n",
        "        \n",
        "        self.fc3   = torch.nn.Linear(84, 10)\n",
        "    \n",
        "    def forward(self, x):\n",
        "        \n",
        "        x = self.conv1(x)\n",
        "        x = self.act1(x)\n",
        "        x = self.pool1(x)\n",
        "        \n",
        "        x = self.conv2(x)\n",
        "        x = self.act2(x)\n",
        "        x = self.pool2(x)\n",
        "        \n",
        "        x = x.view(x.size(0), x.size(1) * x.size(2) * x.size(3))\n",
        "\n",
        "        x = self.fc1(x)\n",
        "        x = self.act3(x)\n",
        "        x = self.fc2(x)\n",
        "        x = self.act4(x)\n",
        "        x = self.fc3(x)\n",
        "        \n",
        "        return x\n",
        "    \n",
        "lenet = LeNet_adv()"
      ]
    },
    {
      "cell_type": "code",
      "source": [
        "device = torch.device('cuda:0' if torch.cuda.is_available() else 'cpu')\n",
        "lenet = lenet.to(device)"
      ],
      "metadata": {
        "id": "uUNfIq1gwU_i"
      },
      "execution_count": 16,
      "outputs": []
    },
    {
      "cell_type": "code",
      "source": [
        "loss = torch.nn.CrossEntropyLoss()\n",
        "optimizer = torch.optim.Adam(lenet.parameters(), lr=3.0e-4)"
      ],
      "metadata": {
        "id": "Dg6YCcPmwZL7"
      },
      "execution_count": 17,
      "outputs": []
    },
    {
      "cell_type": "code",
      "source": [
        "batch_size = 100\n",
        "\n",
        "test_accuracy_history = []\n",
        "test_loss_history = []\n",
        "\n",
        "X_test = X_test.to(device)\n",
        "y_test = y_test.to(device)\n",
        "\n",
        "for epoch in range(100):\n",
        "    order = np.random.permutation(len(X_train))\n",
        "    for start_index in range(0, len(X_train), batch_size):\n",
        "        optimizer.zero_grad()\n",
        "        \n",
        "        batch_indexes = order[start_index:start_index+batch_size]\n",
        "        \n",
        "        X_batch = X_train[batch_indexes].to(device)\n",
        "        y_batch = y_train[batch_indexes].to(device)\n",
        "        \n",
        "        preds = lenet.forward(X_batch) \n",
        "        \n",
        "        loss_value = loss(preds, y_batch)\n",
        "        loss_value.backward()\n",
        "        \n",
        "        optimizer.step()\n",
        "        \n",
        "    test_preds = lenet.forward(X_test)\n",
        "    test_loss_history.append(loss(test_preds, y_test).data.cpu())\n",
        "    \n",
        "    accuracy = (test_preds.argmax(dim=1) == y_test).float().mean().data.cpu()\n",
        "    test_accuracy_history.append(accuracy)\n",
        "    \n",
        "    print(accuracy)"
      ],
      "metadata": {
        "colab": {
          "base_uri": "https://localhost:8080/"
        },
        "id": "8lvTO-VhyZiU",
        "outputId": "94486eeb-8903-4608-e105-cb8c7a5ed00d"
      },
      "execution_count": 18,
      "outputs": [
        {
          "output_type": "stream",
          "name": "stdout",
          "text": [
            "tensor(0.9754)\n",
            "tensor(0.9819)\n",
            "tensor(0.9860)\n",
            "tensor(0.9826)\n",
            "tensor(0.9872)\n",
            "tensor(0.9885)\n",
            "tensor(0.9889)\n",
            "tensor(0.9896)\n",
            "tensor(0.9898)\n",
            "tensor(0.9888)\n",
            "tensor(0.9908)\n",
            "tensor(0.9871)\n",
            "tensor(0.9885)\n",
            "tensor(0.9895)\n",
            "tensor(0.9879)\n",
            "tensor(0.9898)\n",
            "tensor(0.9891)\n",
            "tensor(0.9897)\n",
            "tensor(0.9904)\n",
            "tensor(0.9891)\n",
            "tensor(0.9891)\n",
            "tensor(0.9883)\n",
            "tensor(0.9883)\n",
            "tensor(0.9902)\n",
            "tensor(0.9887)\n",
            "tensor(0.9903)\n",
            "tensor(0.9885)\n",
            "tensor(0.9888)\n",
            "tensor(0.9907)\n",
            "tensor(0.9896)\n",
            "tensor(0.9916)\n",
            "tensor(0.9892)\n",
            "tensor(0.9896)\n",
            "tensor(0.9901)\n",
            "tensor(0.9909)\n",
            "tensor(0.9920)\n",
            "tensor(0.9905)\n",
            "tensor(0.9904)\n",
            "tensor(0.9904)\n",
            "tensor(0.9902)\n",
            "tensor(0.9904)\n",
            "tensor(0.9886)\n",
            "tensor(0.9888)\n",
            "tensor(0.9897)\n",
            "tensor(0.9904)\n",
            "tensor(0.9896)\n",
            "tensor(0.9919)\n",
            "tensor(0.9913)\n",
            "tensor(0.9908)\n",
            "tensor(0.9910)\n",
            "tensor(0.9922)\n",
            "tensor(0.9922)\n",
            "tensor(0.9925)\n",
            "tensor(0.9925)\n",
            "tensor(0.9925)\n",
            "tensor(0.9924)\n",
            "tensor(0.9926)\n",
            "tensor(0.9926)\n",
            "tensor(0.9926)\n",
            "tensor(0.9928)\n",
            "tensor(0.9928)\n",
            "tensor(0.9929)\n",
            "tensor(0.9928)\n",
            "tensor(0.9932)\n",
            "tensor(0.9933)\n",
            "tensor(0.9930)\n",
            "tensor(0.9933)\n",
            "tensor(0.9930)\n",
            "tensor(0.9929)\n",
            "tensor(0.9929)\n",
            "tensor(0.9931)\n",
            "tensor(0.9929)\n",
            "tensor(0.9932)\n",
            "tensor(0.9929)\n",
            "tensor(0.9933)\n",
            "tensor(0.9930)\n",
            "tensor(0.9926)\n",
            "tensor(0.9900)\n",
            "tensor(0.9914)\n",
            "tensor(0.9911)\n",
            "tensor(0.9912)\n",
            "tensor(0.9912)\n",
            "tensor(0.9914)\n",
            "tensor(0.9916)\n",
            "tensor(0.9916)\n",
            "tensor(0.9913)\n",
            "tensor(0.9918)\n",
            "tensor(0.9920)\n",
            "tensor(0.9920)\n",
            "tensor(0.9920)\n",
            "tensor(0.9920)\n",
            "tensor(0.9920)\n",
            "tensor(0.9920)\n",
            "tensor(0.9921)\n",
            "tensor(0.9922)\n",
            "tensor(0.9920)\n",
            "tensor(0.9921)\n",
            "tensor(0.9921)\n",
            "tensor(0.9921)\n",
            "tensor(0.9922)\n"
          ]
        }
      ]
    }
  ],
  "metadata": {
    "accelerator": "GPU",
    "colab": {
      "provenance": []
    },
    "kernelspec": {
      "display_name": "Python 3",
      "language": "python",
      "name": "python3"
    },
    "language_info": {
      "codemirror_mode": {
        "name": "ipython",
        "version": 3
      },
      "file_extension": ".py",
      "mimetype": "text/x-python",
      "name": "python",
      "nbconvert_exporter": "python",
      "pygments_lexer": "ipython3",
      "version": "3.6.8"
    }
  },
  "nbformat": 4,
  "nbformat_minor": 0
}